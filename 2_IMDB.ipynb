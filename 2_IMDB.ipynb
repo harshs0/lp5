{
 "cells": [
  {
   "cell_type": "code",
   "execution_count": 1,
   "metadata": {
    "id": "3pKLfltkaTGI"
   },
   "outputs": [],
   "source": [
    "from tensorflow.keras.datasets import imdb"
   ]
  },
  {
   "cell_type": "code",
   "execution_count": 2,
   "metadata": {
    "colab": {
     "base_uri": "https://localhost:8080/"
    },
    "id": "q4kkC5m4dB9g",
    "outputId": "fa651f20-551c-42be-a6f0-c42129324d41"
   },
   "outputs": [
    {
     "name": "stdout",
     "output_type": "stream",
     "text": [
      "Downloading data from https://storage.googleapis.com/tensorflow/tf-keras-datasets/imdb.npz\n",
      "17464789/17464789 [==============================] - 14s 1us/step\n"
     ]
    }
   ],
   "source": [
    "(train_data, train_label), (test_data, test_label) = imdb.load_data(num_words = 10000)"
   ]
  },
  {
   "cell_type": "code",
   "execution_count": 3,
   "metadata": {
    "id": "zQSeawyChhL8"
   },
   "outputs": [],
   "source": [
    "import numpy as np\n",
    "\n",
    "def vectorize_sequences(sequences, dimensions = 10000):\n",
    "  results = np.zeros((len(sequences), dimensions))\n",
    "  for i,sequences in enumerate(sequences):\n",
    "    results[i, sequences] = 1\n",
    "  return results\n",
    "\n",
    "x_train = vectorize_sequences(train_data)\n",
    "y_train = vectorize_sequences(test_data)"
   ]
  },
  {
   "cell_type": "code",
   "execution_count": 4,
   "metadata": {
    "id": "bfvRmjVvj8UH"
   },
   "outputs": [],
   "source": [
    "y_train = np.asarray(train_label).astype('float32')\n",
    "y_test = np.asarray(test_label).astype('float32')"
   ]
  },
  {
   "cell_type": "code",
   "execution_count": 5,
   "metadata": {
    "id": "A1fj3RCWpl8g"
   },
   "outputs": [],
   "source": [
    "from tensorflow.keras.models import Sequential\n",
    "from tensorflow.keras.layers import Dense"
   ]
  },
  {
   "cell_type": "code",
   "execution_count": 6,
   "metadata": {
    "id": "9ESdCTH5p3xJ"
   },
   "outputs": [],
   "source": [
    "model = Sequential()\n",
    "model.add(Dense(16, input_shape=(10000, ), activation = \"relu\"))\n",
    "model.add(Dense(16, activation = \"relu\"))\n",
    "model.add(Dense(1, activation = \"sigmoid\"))"
   ]
  },
  {
   "cell_type": "code",
   "execution_count": 7,
   "metadata": {
    "id": "t3u-nNLarXzk"
   },
   "outputs": [],
   "source": [
    "model.compile(optimizer='adam', loss = 'mse', metrics = ['accuracy'])"
   ]
  },
  {
   "cell_type": "code",
   "execution_count": 8,
   "metadata": {
    "colab": {
     "base_uri": "https://localhost:8080/"
    },
    "id": "Z9mUT6JqrlmZ",
    "outputId": "2c647471-7be6-409f-b58b-19f1f56557c9"
   },
   "outputs": [
    {
     "name": "stdout",
     "output_type": "stream",
     "text": [
      "Model: \"sequential\"\n",
      "_________________________________________________________________\n",
      " Layer (type)                Output Shape              Param #   \n",
      "=================================================================\n",
      " dense (Dense)               (None, 16)                160016    \n",
      "                                                                 \n",
      " dense_1 (Dense)             (None, 16)                272       \n",
      "                                                                 \n",
      " dense_2 (Dense)             (None, 1)                 17        \n",
      "                                                                 \n",
      "=================================================================\n",
      "Total params: 160305 (626.19 KB)\n",
      "Trainable params: 160305 (626.19 KB)\n",
      "Non-trainable params: 0 (0.00 Byte)\n",
      "_________________________________________________________________\n"
     ]
    }
   ],
   "source": [
    "model.summary()"
   ]
  },
  {
   "cell_type": "code",
   "execution_count": 9,
   "metadata": {
    "colab": {
     "base_uri": "https://localhost:8080/"
    },
    "id": "4DeosLh5rnaQ",
    "outputId": "3d005b2f-4ca4-4f71-9e3a-2396bbfc170f"
   },
   "outputs": [
    {
     "name": "stdout",
     "output_type": "stream",
     "text": [
      "Epoch 1/20\n",
      "35/35 [==============================] - 2s 31ms/step - loss: 0.1955 - accuracy: 0.7492 - val_loss: 0.1307 - val_accuracy: 0.8621\n",
      "Epoch 2/20\n",
      "35/35 [==============================] - 0s 14ms/step - loss: 0.0942 - accuracy: 0.8999 - val_loss: 0.0887 - val_accuracy: 0.8876\n",
      "Epoch 3/20\n",
      "35/35 [==============================] - 0s 14ms/step - loss: 0.0609 - accuracy: 0.9339 - val_loss: 0.0812 - val_accuracy: 0.8932\n",
      "Epoch 4/20\n",
      "35/35 [==============================] - 0s 13ms/step - loss: 0.0457 - accuracy: 0.9531 - val_loss: 0.0807 - val_accuracy: 0.8932\n",
      "Epoch 5/20\n",
      "35/35 [==============================] - 0s 12ms/step - loss: 0.0355 - accuracy: 0.9656 - val_loss: 0.0823 - val_accuracy: 0.8899\n",
      "Epoch 6/20\n",
      "35/35 [==============================] - 0s 12ms/step - loss: 0.0280 - accuracy: 0.9745 - val_loss: 0.0840 - val_accuracy: 0.8875\n",
      "Epoch 7/20\n",
      "35/35 [==============================] - 0s 12ms/step - loss: 0.0230 - accuracy: 0.9807 - val_loss: 0.0867 - val_accuracy: 0.8847\n",
      "Epoch 8/20\n",
      "35/35 [==============================] - 0s 12ms/step - loss: 0.0180 - accuracy: 0.9861 - val_loss: 0.0894 - val_accuracy: 0.8824\n",
      "Epoch 9/20\n",
      "35/35 [==============================] - 0s 11ms/step - loss: 0.0147 - accuracy: 0.9891 - val_loss: 0.0925 - val_accuracy: 0.8797\n",
      "Epoch 10/20\n",
      "35/35 [==============================] - 0s 12ms/step - loss: 0.0122 - accuracy: 0.9912 - val_loss: 0.0950 - val_accuracy: 0.8772\n",
      "Epoch 11/20\n",
      "35/35 [==============================] - 0s 11ms/step - loss: 0.0101 - accuracy: 0.9926 - val_loss: 0.0971 - val_accuracy: 0.8761\n",
      "Epoch 12/20\n",
      "35/35 [==============================] - 0s 12ms/step - loss: 0.0086 - accuracy: 0.9938 - val_loss: 0.0988 - val_accuracy: 0.8760\n",
      "Epoch 13/20\n",
      "35/35 [==============================] - 0s 12ms/step - loss: 0.0076 - accuracy: 0.9943 - val_loss: 0.1007 - val_accuracy: 0.8743\n",
      "Epoch 14/20\n",
      "35/35 [==============================] - 0s 14ms/step - loss: 0.0069 - accuracy: 0.9948 - val_loss: 0.1023 - val_accuracy: 0.8729\n",
      "Epoch 15/20\n",
      "35/35 [==============================] - 0s 13ms/step - loss: 0.0063 - accuracy: 0.9950 - val_loss: 0.1033 - val_accuracy: 0.8720\n",
      "Epoch 16/20\n",
      "35/35 [==============================] - 0s 14ms/step - loss: 0.0059 - accuracy: 0.9950 - val_loss: 0.1045 - val_accuracy: 0.8717\n",
      "Epoch 17/20\n",
      "35/35 [==============================] - 0s 13ms/step - loss: 0.0056 - accuracy: 0.9953 - val_loss: 0.1054 - val_accuracy: 0.8716\n",
      "Epoch 18/20\n",
      "35/35 [==============================] - 0s 13ms/step - loss: 0.0054 - accuracy: 0.9953 - val_loss: 0.1064 - val_accuracy: 0.8699\n",
      "Epoch 19/20\n",
      "35/35 [==============================] - 0s 13ms/step - loss: 0.0052 - accuracy: 0.9954 - val_loss: 0.1070 - val_accuracy: 0.8687\n",
      "Epoch 20/20\n",
      "35/35 [==============================] - 0s 11ms/step - loss: 0.0051 - accuracy: 0.9954 - val_loss: 0.1076 - val_accuracy: 0.8691\n"
     ]
    }
   ],
   "source": [
    "history = model.fit(x_train, y_train, validation_split = 0.3, epochs = 20, verbose = 1, batch_size = 512)"
   ]
  }
 ],
 "metadata": {
  "colab": {
   "provenance": []
  },
  "kernelspec": {
   "display_name": "Python 3 (ipykernel)",
   "language": "python",
   "name": "python3"
  },
  "language_info": {
   "codemirror_mode": {
    "name": "ipython",
    "version": 3
   },
   "file_extension": ".py",
   "mimetype": "text/x-python",
   "name": "python",
   "nbconvert_exporter": "python",
   "pygments_lexer": "ipython3",
   "version": "3.11.0"
  }
 },
 "nbformat": 4,
 "nbformat_minor": 1
}
